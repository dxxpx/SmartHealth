{
 "cells": [
  {
   "cell_type": "code",
   "execution_count": 1,
   "id": "b6609329-8565-4be8-9037-ff83cfb6e77d",
   "metadata": {},
   "outputs": [
    {
     "name": "stderr",
     "output_type": "stream",
     "text": [
      "Intel(R) Extension for Scikit-learn* enabled (https://github.com/intel/scikit-learn-intelex)\n"
     ]
    },
    {
     "name": "stdout",
     "output_type": "stream",
     "text": [
      "Scikit-learn was successfully globally patched by Intel(R) Extension for Scikit-learn\n"
     ]
    },
    {
     "name": "stdin",
     "output_type": "stream",
     "text": [
      "Enter a dictionary:  { \"ph\":[3.71608007538699], \"Hardness\":[129.422920514944], \"Solids\":[18630.0578579703], \"Chloramines\":[6.635245883862], \"Sulfate\":[0], \"Conductivity\":[592.885359134852], \"Turbidity\":[4.5006562749424]}\n"
     ]
    },
    {
     "name": "stdout",
     "output_type": "stream",
     "text": [
      "{'ph': [3.71608007538699], 'Hardness': [129.422920514944], 'Solids': [18630.0578579703], 'Chloramines': [6.635245883862], 'Sulfate': [0], 'Conductivity': [592.885359134852], 'Turbidity': [4.5006562749424]}\n",
      "<class 'dict'>\n"
     ]
    },
    {
     "name": "stderr",
     "output_type": "stream",
     "text": [
      "2024-10-05 00:49:07,026\tINFO worker.py:1786 -- Started a local Ray instance.\n"
     ]
    },
    {
     "name": "stdout",
     "output_type": "stream",
     "text": [
      "Best parameters: {'max_depth': None, 'min_samples_leaf': 2, 'min_samples_split': 5, 'n_estimators': 200}\n",
      "Not potable\n"
     ]
    }
   ],
   "source": [
    "import pickle\n",
    "import modin.pandas as pd\n",
    "from sklearnex import patch_sklearn\n",
    "patch_sklearn(global_patch=True)\n",
    "from sklearn.model_selection import train_test_split, GridSearchCV\n",
    "from sklearn.ensemble import RandomForestClassifier\n",
    "from sklearn.metrics import accuracy_score\n",
    "import json\n",
    "input_str = input(\"Enter a dictionary: \")\n",
    "try:\n",
    "    input_dict = json.loads(input_str)\n",
    "    print(input_dict)\n",
    "    print(type(input_dict))\n",
    "    input_dict=pd.DataFrame(input_dict)\n",
    "except json.JSONDecodeError:\n",
    "    print(\"Invalid dictionary format. Please enter a valid JSON string.\")\n",
    "data = pd.read_csv(\"water_potability.csv\")\n",
    "df = data.dropna()\n",
    "\n",
    "X = df[['ph', 'Hardness', 'Solids', 'Chloramines', 'Sulfate', 'Conductivity', 'Turbidity']]\n",
    "y = df['Potability']\n",
    "X_train, X_test, y_train, y_test = train_test_split(X, y, test_size=0.2, random_state=63)\n",
    "\n",
    "# Define the parameter grid\n",
    "param_grid = {\n",
    "    'n_estimators': [100, 200, 300],\n",
    "    'max_depth': [None, 5, 10],\n",
    "    'min_samples_split': [2, 5, 10],\n",
    "    'min_samples_leaf': [1, 2, 4]\n",
    "}\n",
    "\n",
    "# Create the Random Forest model\n",
    "rf_classifier = RandomForestClassifier(random_state=90)\n",
    "\n",
    "# Create the GridSearchCV object\n",
    "grid_search = GridSearchCV(estimator=rf_classifier, param_grid=param_grid, cv=5, scoring='accuracy')\n",
    "\n",
    "# Fit the grid search to the data\n",
    "grid_search.fit(X_train, y_train)\n",
    "\n",
    "# Get the best parameters\n",
    "best_params = grid_search.best_params_\n",
    "print(\"Best parameters:\", best_params)\n",
    "\n",
    "# Train the model with the best parameters\n",
    "best_rf_classifier = RandomForestClassifier(**best_params, random_state=90)\n",
    "best_rf_classifier.fit(X_train, y_train)\n",
    "\n",
    "# Make predictions and evaluate\n",
    "y_pred_xgb = best_rf_classifier.predict(input_dict)\n",
    "#accuracy = accuracy_score(y_test, y_pred)\n",
    "#print(\"Accuracy:\", accuracy)\n",
    "if y_pred_xgb==0:\n",
    "    print(\"Not potable\")\n",
    "else:\n",
    "    print(\"Potable\")\n",
    "with open('potable_prediction.pk4', 'wb') as file:\n",
    "    pickle.dump(best_rf_classifier, file)"
   ]
  },
  {
   "cell_type": "code",
   "execution_count": null,
   "id": "fb531e09-99ed-492e-9605-edb80c716137",
   "metadata": {},
   "outputs": [],
   "source": []
  }
 ],
 "metadata": {
  "kernelspec": {
   "display_name": "Python 3 (ipykernel)",
   "language": "python",
   "name": "python3"
  },
  "language_info": {
   "codemirror_mode": {
    "name": "ipython",
    "version": 3
   },
   "file_extension": ".py",
   "mimetype": "text/x-python",
   "name": "python",
   "nbconvert_exporter": "python",
   "pygments_lexer": "ipython3",
   "version": "3.12.6"
  }
 },
 "nbformat": 4,
 "nbformat_minor": 5
}
