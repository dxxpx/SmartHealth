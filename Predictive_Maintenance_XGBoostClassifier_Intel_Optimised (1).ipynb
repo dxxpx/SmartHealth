{
 "cells": [
  {
   "cell_type": "code",
   "execution_count": null,
   "id": "866f0e1d-7eef-4fea-b088-23b447a901d9",
   "metadata": {},
   "outputs": [
    {
     "name": "stderr",
     "output_type": "stream",
     "text": [
      "Intel(R) Extension for Scikit-learn* enabled (https://github.com/intel/scikit-learn-intelex)\n"
     ]
    },
    {
     "name": "stdout",
     "output_type": "stream",
     "text": [
      "Scikit-learn was successfully globally patched by Intel(R) Extension for Scikit-learn\n"
     ]
    }
   ],
   "source": [
    "import pickle\n",
    "import numpy as np #intel math kernal library acceleration\n",
    "import modin.pandas as pd #intel version of pandas (Modin)\n",
    "from sklearnex import patch_sklearn\n",
    "patch_sklearn(global_patch=True) #global patch for scikit-learn-intelex\n",
    "import sklearn\n",
    "#import matplotlib.pyplot as plt\n",
    "from xgboost import XGBClassifier\n",
    "from sklearn.model_selection import train_test_split\n",
    "from sklearn.tree import DecisionTreeClassifier, plot_tree\n",
    "from sklearn.metrics import accuracy_score, classification_report\n",
    "from sklearn.model_selection import GridSearchCV, RandomizedSearchCV\n",
    "from sklearn.preprocessing import LabelEncoder\n",
    "import xgboost as xgb\n",
    "import json\n",
    "\n",
    "# Get input as a string representation of a dictionary\n",
    "input_str = input(\"Enter a dictionary: \")\n",
    "\n",
    "# Convert the string to a dictionary\n",
    "try:\n",
    "    input_dict = json.loads(input_str)\n",
    "    print(input_dict)\n",
    "    print(type(input_dict))\n",
    "except json.JSONDecodeError:\n",
    "    print(\"Invalid dictionary format. Please enter a valid JSON string.\")\n",
    "input_dict=pd.DataFrame(input_dict)\n",
    "\n",
    "data=pd.read_csv(\"predictive maintanence.csv\")\n",
    "#print(data)\n",
    "'''data.rename(columns = {'Air temperature [K]':'Air temperature',\n",
    "                     'Process temperature [K]':'Process temperature',\n",
    "                     'Rotational speed [rpm]':'Rotational speed',\n",
    "                     'Torque [Nm]':'Torque',\n",
    "                     'Tool wear [min]':'Tool wear'},\n",
    "          inplace = True)'''\n",
    "data['Failure Type'] = data['Failure Type'].replace({'Power Failure': 'error', 'Tool Wear Failure': 'error', 'Overstrain Failure': 'error'})\n",
    "x=data[[\"Air temperature [K]\", \"Process temperature [K]\", \"Rotational speed [rpm]\", \"Torque [Nm]\", \"Vibration Levels \", \"Operational Hours\"]].values\n",
    "y=data[\"Failure Type\"].values\n",
    "l=LabelEncoder()\n",
    "y=l.fit_transform(y)\n",
    "x_train, x_test, y_train, y_test=train_test_split(x, y, test_size=0.1, random_state=92)\n",
    "\n",
    "\n",
    "\n",
    "\n",
    "param_grid_xgb = {\n",
    "    'n_estimators': [100, 200, 300],\n",
    "    'max_depth': [3, 5, 7],\n",
    "    'learning_rate': [0.1, 0.01, 0.001],\n",
    "}\n",
    "xgb_model = xgb.XGBClassifier()\n",
    "grid_search_xgb = GridSearchCV(estimator=xgb_model, param_grid=param_grid_xgb, cv=5)\n",
    "grid_search_xgb.fit(x_train, y_train)\n",
    "best_params_xgb = grid_search_xgb.best_params_\n",
    "best_model_xgb = grid_search_xgb.best_estimator_\n",
    "#print(\"Best hyperparameters for XGBoost:\", best_params_xgb)\n",
    "y_pred_xgb = best_model_xgb.predict(x_test)\n",
    "#accuracy_xgb = accuracy_score(y_test, y_pred_xgb)\n",
    "#print(\"Accuracy with XGBoost:\", accuracy_xgb)\n",
    "best_xgb_model = xgb.XGBClassifier(**best_params_xgb)\n",
    "best_xgb_model.fit(x_train, y_train)\n",
    "y_pred_xgb = best_xgb_model.predict(input_dict)\n",
    "#accuracy_xgb = accuracy_score(y_test, y_pred_xgb)\n",
    "#print(\"Accuracy with XGBoost:\", accuracy_xgb)\n",
    "report=classification_report(y_test, y_pred, target_names=[\"No Failure\",'error'])\n",
    "print(y_pred_xgb)\n",
    "\n",
    "#print(report)\n",
    "\n",
    "\n",
    "\n",
    "with open('predictive_model_final1.pk4', 'wb') as file:\n",
    "    pickle.dump(model, file)"
   ]
  },
  {
   "cell_type": "code",
   "execution_count": null,
   "id": "3604b732-df4d-435b-9e5f-5bfb6fcf66ff",
   "metadata": {},
   "outputs": [],
   "source": []
  }
 ],
 "metadata": {
  "kernelspec": {
   "display_name": "Python 3 (ipykernel)",
   "language": "python",
   "name": "python3"
  },
  "language_info": {
   "codemirror_mode": {
    "name": "ipython",
    "version": 3
   },
   "file_extension": ".py",
   "mimetype": "text/x-python",
   "name": "python",
   "nbconvert_exporter": "python",
   "pygments_lexer": "ipython3",
   "version": "3.12.6"
  }
 },
 "nbformat": 4,
 "nbformat_minor": 5
}
