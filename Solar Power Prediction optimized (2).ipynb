{
 "cells": [
  {
   "cell_type": "code",
   "execution_count": 2,
   "id": "f733e336-ee65-47bf-aa8a-d64885c86520",
   "metadata": {},
   "outputs": [
    {
     "name": "stderr",
     "output_type": "stream",
     "text": [
      "Intel(R) Extension for Scikit-learn* enabled (https://github.com/intel/scikit-learn-intelex)\n"
     ]
    },
    {
     "name": "stdout",
     "output_type": "stream",
     "text": [
      "NaNs after scaling: False\n",
      "Train size: 76740 Test size: 19186\n",
      "Training data shape: (76716, 24, 1) (76716,)\n",
      "Test data shape: (19162, 24, 1) (19162,)\n"
     ]
    },
    {
     "name": "stderr",
     "output_type": "stream",
     "text": [
      "C:\\Users\\braha\\AppData\\Local\\Programs\\Python\\Python312\\Lib\\site-packages\\keras\\src\\layers\\rnn\\rnn.py:204: UserWarning: Do not pass an `input_shape`/`input_dim` argument to a layer. When using Sequential models, prefer using an `Input(shape)` object as the first layer in the model instead.\n",
      "  super().__init__(**kwargs)\n"
     ]
    },
    {
     "name": "stdout",
     "output_type": "stream",
     "text": [
      "Epoch 1/250\n",
      "\u001b[1m2877/2877\u001b[0m \u001b[32m━━━━━━━━━━━━━━━━━━━━\u001b[0m\u001b[37m\u001b[0m \u001b[1m121s\u001b[0m 39ms/step - loss: 0.0115 - val_loss: 0.0087\n",
      "Epoch 2/250\n",
      "\u001b[1m2877/2877\u001b[0m \u001b[32m━━━━━━━━━━━━━━━━━━━━\u001b[0m\u001b[37m\u001b[0m \u001b[1m112s\u001b[0m 39ms/step - loss: 0.0074 - val_loss: 0.0089\n",
      "Epoch 3/250\n",
      "\u001b[1m2877/2877\u001b[0m \u001b[32m━━━━━━━━━━━━━━━━━━━━\u001b[0m\u001b[37m\u001b[0m \u001b[1m111s\u001b[0m 39ms/step - loss: 0.0072 - val_loss: 0.0088\n",
      "Epoch 4/250\n",
      "\u001b[1m2877/2877\u001b[0m \u001b[32m━━━━━━━━━━━━━━━━━━━━\u001b[0m\u001b[37m\u001b[0m \u001b[1m119s\u001b[0m 41ms/step - loss: 0.0070 - val_loss: 0.0087\n",
      "Epoch 5/250\n",
      "\u001b[1m2877/2877\u001b[0m \u001b[32m━━━━━━━━━━━━━━━━━━━━\u001b[0m\u001b[37m\u001b[0m \u001b[1m117s\u001b[0m 41ms/step - loss: 0.0069 - val_loss: 0.0089\n",
      "Epoch 6/250\n",
      "\u001b[1m2877/2877\u001b[0m \u001b[32m━━━━━━━━━━━━━━━━━━━━\u001b[0m\u001b[37m\u001b[0m \u001b[1m116s\u001b[0m 40ms/step - loss: 0.0069 - val_loss: 0.0084\n",
      "Epoch 7/250\n",
      "\u001b[1m2877/2877\u001b[0m \u001b[32m━━━━━━━━━━━━━━━━━━━━\u001b[0m\u001b[37m\u001b[0m \u001b[1m118s\u001b[0m 41ms/step - loss: 0.0068 - val_loss: 0.0087\n",
      "Epoch 8/250\n",
      "\u001b[1m2877/2877\u001b[0m \u001b[32m━━━━━━━━━━━━━━━━━━━━\u001b[0m\u001b[37m\u001b[0m \u001b[1m118s\u001b[0m 41ms/step - loss: 0.0067 - val_loss: 0.0084\n",
      "Epoch 9/250\n",
      "\u001b[1m2877/2877\u001b[0m \u001b[32m━━━━━━━━━━━━━━━━━━━━\u001b[0m\u001b[37m\u001b[0m \u001b[1m118s\u001b[0m 41ms/step - loss: 0.0066 - val_loss: 0.0086\n",
      "\u001b[1m599/599\u001b[0m \u001b[32m━━━━━━━━━━━━━━━━━━━━\u001b[0m\u001b[37m\u001b[0m \u001b[1m12s\u001b[0m 18ms/step\n"
     ]
    }
   ],
   "source": [
    "import pandas as pd\n",
    "import numpy as np\n",
    "from sklearnex import patch_sklearn\n",
    "patch_sklearn(global_patch=True)\n",
    "df = pd.read_csv('Renewable.csv')\n",
    "df['Time'] = pd.to_datetime(df['Time'])\n",
    "df = df[df['Energy delta[Wh]'] != 0]\n",
    "df1 = df[['Time','Energy delta[Wh]']].copy('Deep')\n",
    "df1 = df1.set_index('Time')\n",
    "years = [2017, 2018, 2019, 2020, 2021, 2022]\n",
    "df2 = df1.reset_index('Time')\n",
    "from sklearn.preprocessing import MinMaxScaler\n",
    "scaler = MinMaxScaler()\n",
    "scaler_data = scaler.fit_transform(df1)\n",
    "print(\"NaNs after scaling:\", np.isnan(scaler_data).any())\n",
    "index = np.arange(0, len(scaler_data), 1)\n",
    "scaler_df = pd.DataFrame(scaler_data, index=index, columns=['Energy delta[Wh]'])\n",
    "train_size = int(len(scaler_df) * 0.8)\n",
    "train, test = scaler_df.iloc[0:train_size], scaler_df.iloc[train_size:len(scaler_df)]\n",
    "print(\"Train size:\", len(train), \"Test size:\", len(test))\n",
    "def create_dataset(X, y, time_steps=1):\n",
    "    Xs, ys = [], []\n",
    "    for i in range(len(X) - time_steps):\n",
    "        v = X.iloc[i:(i + time_steps)].values\n",
    "        Xs.append(v)\n",
    "        ys.append(y.iloc[i + time_steps])\n",
    "    return np.array(Xs), np.array(ys)\n",
    "\n",
    "n_steps = 24\n",
    "\n",
    "X_train, y_train = create_dataset(train, train['Energy delta[Wh]'], n_steps)\n",
    "\n",
    "X_test, y_test = create_dataset(test, test['Energy delta[Wh]'], n_steps)\n",
    "\n",
    "print(\"Training data shape:\", X_train.shape, y_train.shape)\n",
    "print(\"Test data shape:\", X_test.shape, y_test.shape)\n",
    "\n",
    "import tensorflow as tf #tensorflow-intel\n",
    "from tensorflow import keras\n",
    "from tensorflow.keras.layers import LSTM, Dense, Dropout\n",
    "from tensorflow.keras.callbacks import EarlyStopping, ModelCheckpoint\n",
    "from tensorflow.keras.layers import SimpleRNN, Dense, Dropout\n",
    "from tensorflow.keras.models import Sequential\n",
    "lstm_model = keras.Sequential([\n",
    "    LSTM(units=128, input_shape=(X_train.shape[1], X_train.shape[2]), return_sequences=True),\n",
    "    Dropout(0.2),\n",
    "    LSTM(units=64),\n",
    "    Dropout(0.2),\n",
    "    Dense(units=1)\n",
    "])\n",
    "\n",
    "lstm_model.compile(\n",
    "    loss='mean_squared_error',\n",
    "    optimizer=keras.optimizers.Adam(0.001)\n",
    ")\n",
    "\n",
    "# Callbacks (Corrected)\n",
    "early_stopping = EarlyStopping(monitor='val_loss', patience=3, restore_best_weights=True) # patience=10\n",
    "model_checkpoint = ModelCheckpoint('best_lstm_model.keras', monitor='val_loss', save_best_only=True)\n",
    "history = lstm_model.fit(\n",
    "    X_train, y_train,\n",
    "    epochs=250,\n",
    "    batch_size=24,\n",
    "    validation_split=0.1,\n",
    "    verbose=1,\n",
    "    shuffle=False,\n",
    "    callbacks=[early_stopping, model_checkpoint]\n",
    ")\n",
    "\n",
    "lstm_pred = lstm_model.predict(X_test)\n",
    "df_lstm_final = test[lstm_pred.shape[0]*-1:].copy()\n",
    "df_lstm_final['Prediction'] = lstm_pred[:,0]\n",
    "df_reset_index = df1.reset_index()\n",
    "df_lstm_final['Date'] = df_reset_index['Time']\n",
    "df_lstm_final = df_lstm_final.set_index([\"Date\"], drop=True)\n",
    "\n",
    "train2 = train.copy()\n",
    "train2.index = df2.index[:len(train)]\n",
    "train2['Energy delta[Wh]'] = scaler.inverse_transform(train2['Energy delta[Wh]'].to_numpy().reshape(-1, 1))\n",
    "train2['Time'] = df2['Time']\n",
    "train2 = train2.set_index(['Time'])\n",
    "train2.head()\n",
    "train2.to_csv('train2.csv')"
   ]
  },
  {
   "cell_type": "code",
   "execution_count": null,
   "id": "1e4a1a62-7523-4e2c-9643-2eaef15c9e77",
   "metadata": {},
   "outputs": [],
   "source": []
  }
 ],
 "metadata": {
  "kernelspec": {
   "display_name": "Python 3 (ipykernel)",
   "language": "python",
   "name": "python3"
  },
  "language_info": {
   "codemirror_mode": {
    "name": "ipython",
    "version": 3
   },
   "file_extension": ".py",
   "mimetype": "text/x-python",
   "name": "python",
   "nbconvert_exporter": "python",
   "pygments_lexer": "ipython3",
   "version": "3.12.6"
  }
 },
 "nbformat": 4,
 "nbformat_minor": 5
}
